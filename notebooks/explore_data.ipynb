{
 "cells": [
  {
   "cell_type": "code",
   "execution_count": 1,
   "metadata": {},
   "outputs": [],
   "source": [
    "import numpy as np\n",
    "import pandas as pd\n",
    "import pathlib"
   ]
  },
  {
   "cell_type": "code",
   "execution_count": 3,
   "metadata": {},
   "outputs": [
    {
     "name": "stdout",
     "output_type": "stream",
     "text": [
      "C:\\Users\\rhjki\\Desktop\\melanoma_classification\\data\\raw\n"
     ]
    }
   ],
   "source": [
    "# path\n",
    "home = pathlib.Path.cwd().parents[0]\n",
    "data_path = home/'data'/'raw'\n",
    "print(data_path)"
   ]
  },
  {
   "cell_type": "code",
   "execution_count": 9,
   "metadata": {},
   "outputs": [
    {
     "name": "stdout",
     "output_type": "stream",
     "text": [
      "image_name                        object\n",
      "patient_id                        object\n",
      "sex                               object\n",
      "age_approx                       float64\n",
      "anatom_site_general_challenge     object\n",
      "diagnosis                         object\n",
      "benign_malignant                  object\n",
      "target                             int64\n",
      "dtype: object\n",
      "         age_approx        target\n",
      "count  33058.000000  33126.000000\n",
      "mean      48.870016      0.017630\n",
      "std       14.380360      0.131603\n",
      "min        0.000000      0.000000\n",
      "25%       40.000000      0.000000\n",
      "50%       50.000000      0.000000\n",
      "75%       60.000000      0.000000\n",
      "max       90.000000      1.000000\n"
     ]
    }
   ],
   "source": [
    "train_df = pd.read_csv(data_path/'train.csv')\n",
    "\n",
    "print(train_df.dtypes)\n",
    "print(train_df.describe())"
   ]
  },
  {
   "cell_type": "code",
   "execution_count": 14,
   "metadata": {},
   "outputs": [
    {
     "name": "stdout",
     "output_type": "stream",
     "text": [
      "Index(['age_approx', 'target'], dtype='object')\n",
      "Index(['anatom_site_general_challenge', 'benign_malignant', 'diagnosis',\n",
      "       'image_name', 'patient_id', 'sex'],\n",
      "      dtype='object')\n"
     ]
    }
   ],
   "source": [
    "numerics = ['int16', 'int32', 'int64', 'float16', 'float32', 'float64']\n",
    "\n",
    "num_cols = train_df.select_dtypes(include=numerics).columns\n",
    "cat_cols = train_df[train_df.columns.difference(num_cols)].columns\n",
    "print(num_cols)\n",
    "print(cat_cols)"
   ]
  },
  {
   "cell_type": "code",
   "execution_count": 17,
   "metadata": {},
   "outputs": [
    {
     "data": {
      "text/html": [
       "<div>\n",
       "<style scoped>\n",
       "    .dataframe tbody tr th:only-of-type {\n",
       "        vertical-align: middle;\n",
       "    }\n",
       "\n",
       "    .dataframe tbody tr th {\n",
       "        vertical-align: top;\n",
       "    }\n",
       "\n",
       "    .dataframe thead th {\n",
       "        text-align: right;\n",
       "    }\n",
       "</style>\n",
       "<table border=\"1\" class=\"dataframe\">\n",
       "  <thead>\n",
       "    <tr style=\"text-align: right;\">\n",
       "      <th></th>\n",
       "      <th>anatom_site_general_challenge</th>\n",
       "      <th>benign_malignant</th>\n",
       "      <th>diagnosis</th>\n",
       "      <th>image_name</th>\n",
       "      <th>patient_id</th>\n",
       "      <th>sex</th>\n",
       "    </tr>\n",
       "  </thead>\n",
       "  <tbody>\n",
       "    <tr>\n",
       "      <th>count</th>\n",
       "      <td>32599</td>\n",
       "      <td>33126</td>\n",
       "      <td>33126</td>\n",
       "      <td>33126</td>\n",
       "      <td>33126</td>\n",
       "      <td>33061</td>\n",
       "    </tr>\n",
       "    <tr>\n",
       "      <th>unique</th>\n",
       "      <td>6</td>\n",
       "      <td>2</td>\n",
       "      <td>9</td>\n",
       "      <td>33126</td>\n",
       "      <td>2056</td>\n",
       "      <td>2</td>\n",
       "    </tr>\n",
       "    <tr>\n",
       "      <th>top</th>\n",
       "      <td>torso</td>\n",
       "      <td>benign</td>\n",
       "      <td>unknown</td>\n",
       "      <td>ISIC_4843102</td>\n",
       "      <td>IP_4479736</td>\n",
       "      <td>male</td>\n",
       "    </tr>\n",
       "    <tr>\n",
       "      <th>freq</th>\n",
       "      <td>16845</td>\n",
       "      <td>32542</td>\n",
       "      <td>27124</td>\n",
       "      <td>1</td>\n",
       "      <td>115</td>\n",
       "      <td>17080</td>\n",
       "    </tr>\n",
       "  </tbody>\n",
       "</table>\n",
       "</div>"
      ],
      "text/plain": [
       "       anatom_site_general_challenge benign_malignant diagnosis    image_name  \\\n",
       "count                          32599            33126     33126         33126   \n",
       "unique                             6                2         9         33126   \n",
       "top                            torso           benign   unknown  ISIC_4843102   \n",
       "freq                           16845            32542     27124             1   \n",
       "\n",
       "        patient_id    sex  \n",
       "count        33126  33061  \n",
       "unique        2056      2  \n",
       "top     IP_4479736   male  \n",
       "freq           115  17080  "
      ]
     },
     "execution_count": 17,
     "metadata": {},
     "output_type": "execute_result"
    }
   ],
   "source": [
    "train_df[cat_cols].describe()"
   ]
  },
  {
   "cell_type": "code",
   "execution_count": 21,
   "metadata": {},
   "outputs": [
    {
     "data": {
      "text/plain": [
       "array(['unknown', 'nevus', 'melanoma', 'seborrheic keratosis',\n",
       "       'lentigo NOS', 'lichenoid keratosis', 'solar lentigo',\n",
       "       'cafe-au-lait macule', 'atypical melanocytic proliferation'],\n",
       "      dtype=object)"
      ]
     },
     "execution_count": 21,
     "metadata": {},
     "output_type": "execute_result"
    }
   ],
   "source": [
    "train_df.diagnosis.unique()"
   ]
  },
  {
   "cell_type": "code",
   "execution_count": 30,
   "metadata": {},
   "outputs": [
    {
     "name": "stdout",
     "output_type": "stream",
     "text": [
      "diagnosis                           benign_malignant\n",
      "atypical melanocytic proliferation  benign                  1\n",
      "cafe-au-lait macule                 benign                  1\n",
      "lentigo NOS                         benign                 44\n",
      "lichenoid keratosis                 benign                 37\n",
      "melanoma                            malignant             584\n",
      "nevus                               benign               5193\n",
      "seborrheic keratosis                benign                135\n",
      "solar lentigo                       benign                  7\n",
      "unknown                             benign              27124\n",
      "Name: diagnosis, dtype: int64\n"
     ]
    }
   ],
   "source": [
    "print(train_df.groupby(['diagnosis','benign_malignant']).diagnosis.count())"
   ]
  },
  {
   "cell_type": "code",
   "execution_count": 29,
   "metadata": {},
   "outputs": [
    {
     "name": "stdout",
     "output_type": "stream",
     "text": [
      "benign_malignant\n",
      "benign       32542\n",
      "malignant      584\n",
      "Name: benign_malignant, dtype: int64\n"
     ]
    }
   ],
   "source": [
    "print(train_df.groupby('benign_malignant').benign_malignant.count())"
   ]
  },
  {
   "cell_type": "code",
   "execution_count": null,
   "metadata": {},
   "outputs": [],
   "source": []
  }
 ],
 "metadata": {
  "kernelspec": {
   "display_name": "Python 3",
   "language": "python",
   "name": "python3"
  },
  "language_info": {
   "codemirror_mode": {
    "name": "ipython",
    "version": 3
   },
   "file_extension": ".py",
   "mimetype": "text/x-python",
   "name": "python",
   "nbconvert_exporter": "python",
   "pygments_lexer": "ipython3",
   "version": "3.7.6"
  }
 },
 "nbformat": 4,
 "nbformat_minor": 4
}
